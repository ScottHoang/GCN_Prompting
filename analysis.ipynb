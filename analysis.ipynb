{
 "cells": [
  {
   "cell_type": "code",
   "execution_count": 1,
   "outputs": [],
   "source": [
    "import torch\n",
    "import matplotlib.pyplot as plt\n",
    "import numpy as np\n",
    "from torch_geometric.utils import k_hop_subgraph\n",
    "import os\n",
    "from utils import pearsonr\n",
    "from collections import defaultdict as ddict\n",
    "from torch_geometric.utils import to_undirected\n",
    "from tqdm import tqdm"
   ],
   "metadata": {
    "collapsed": false,
    "pycharm": {
     "name": "#%%\n"
    }
   }
  },
  {
   "cell_type": "code",
   "execution_count": 2,
   "outputs": [],
   "source": [
    "@torch.no_grad()\n",
    "def MAD(embeddings, targets=None):\n",
    "    n = embeddings.size(0)#\n",
    "    dij = []\n",
    "    for i in range(n):\n",
    "        dij.append(1 - torch.cosine_similarity(embeddings[i].unsqueeze(0), embeddings, dim=-1).unsqueeze(0))\n",
    "    dij = torch.cat(dij, dim=0)\n",
    "    dtgt = torch.mul(dij, targets)\n",
    "    dtgt = dtgt.sum(dim=-1) / targets.sum(dim=-1)\n",
    "    return dtgt.mean().item()"
   ],
   "metadata": {
    "collapsed": false,
    "pycharm": {
     "name": "#%%\n"
    }
   }
  },
  {
   "cell_type": "code",
   "execution_count": 3,
   "outputs": [],
   "source": [
    "@torch.no_grad()\n",
    "def I2NR(edges, labels, hops=2):\n",
    "    edges = to_undirected(edges)\n",
    "    i2nr = []\n",
    "    nodes = set(edges.reshape(-1).cpu().tolist())\n",
    "    for node in nodes:\n",
    "        node_label = labels[node]\n",
    "        subset, k_edges, _, _, = k_hop_subgraph(node, hops, edges)\n",
    "        source_labels = labels[k_edges[0, :]]\n",
    "        target_labels = labels[k_edges[1, :]]\n",
    "        like_edges = source_labels.eq(target_labels)\n",
    "        tgt = source_labels.eq(node_label)\n",
    "        information = torch.mul(like_edges, tgt).sum()\n",
    "        i2nr.append(information.div(k_edges.size(1)).item())\n",
    "    mean_i2nr = sum(i2nr)/len(i2nr)\n",
    "    missing_node_ratio = len(nodes) / labels.size(0)\n",
    "    weighted_mean = mean_i2nr * missing_node_ratio\n",
    "    return mean_i2nr, weighted_mean"
   ],
   "metadata": {
    "collapsed": false,
    "pycharm": {
     "name": "#%%\n"
    }
   }
  },
  {
   "cell_type": "code",
   "execution_count": 4,
   "outputs": [],
   "source": [
    "def load_pkg(path):\n",
    "    pkg = torch.load(path)\n",
    "    return pkg"
   ],
   "metadata": {
    "collapsed": false,
    "pycharm": {
     "name": "#%%\n"
    }
   }
  },
  {
   "cell_type": "code",
   "execution_count": 5,
   "outputs": [],
   "source": [
    "def get_info(path):\n",
    "    pkg = load_pkg(path)\n",
    "    #%%\n",
    "    labels = pkg['labels']\n",
    "    edge_index = pkg['edge_index']\n",
    "    n = labels.size(0)\n",
    "    vars = ddict(list)\n",
    "    #\n",
    "    tgt = torch.ones(n, n).cuda()\n",
    "    #\n",
    "    for k, v in pkg.items():\n",
    "        if k not in ['labels', 'edge_index']:\n",
    "            tgt1 = torch.scatter(torch.zeros(n,n), 1, v['prompt'], 1).cuda()\n",
    "            static_embs = v['static_embs'].cuda()\n",
    "            learned_embs = v['learned_embs'].cuda()\n",
    "            vars['static_prompt_mads'].append(MAD(static_embs, tgt1))\n",
    "            vars['learned_prompt_mads'].append(MAD(learned_embs, tgt1))\n",
    "            vars['static_mads'].append(MAD(static_embs, tgt))\n",
    "            vars['learned_mads'].append(MAD(learned_embs, tgt))\n",
    "            i2nr, weighted_i2nr = I2NR(v['train_edges'], labels)\n",
    "            vars['train_i2nr'].append(i2nr)\n",
    "            vars['train_weighted_i2nr'].append(weighted_i2nr)\n",
    "            vars['node_acc'].append(v['test_acc'])\n",
    "    for k, v in vars.items():\n",
    "        vars[k] = torch.tensor(v)\n",
    "    vars['global_i2nr'] = I2NR(edge_index, labels)[0]\n",
    "    return vars"
   ],
   "metadata": {
    "collapsed": false,
    "pycharm": {
     "name": "#%%\n"
    }
   }
  },
  {
   "cell_type": "code",
   "execution_count": 6,
   "outputs": [],
   "source": [
    "def AutoCorrelation(info):\n",
    "    Y = info['node_acc']\n",
    "    PCorr = {}\n",
    "    for k, X in info.items():\n",
    "        if k not in ['global_i2nr', 'node_acc']:\n",
    "            PCorr[k] = pearsonr(X, Y)\n",
    "    return PCorr"
   ],
   "metadata": {
    "collapsed": false,
    "pycharm": {
     "name": "#%%\n"
    }
   }
  },
  {
   "cell_type": "code",
   "execution_count": 7,
   "outputs": [
    {
     "name": "stderr",
     "output_type": "stream",
     "text": [
      "100%|██████████| 8/8 [1:01:20<00:00, 460.01s/it]\n"
     ]
    }
   ],
   "source": [
    "root = './embeddings'\n",
    "root2 = './processed_embeddings'\n",
    "if not os.path.isdir(root2):\n",
    "    os.mkdir(root2)\n",
    "\n",
    "for p in tqdm(os.listdir(root)):\n",
    "    path = os.path.join(root, p)\n",
    "    vars = get_info(path)\n",
    "    pcoor = AutoCorrelation(vars)\n",
    "    torch.save({'info': vars, 'correlation': pcoor}, os.path.join(root2, p))\n"
   ],
   "metadata": {
    "collapsed": false,
    "pycharm": {
     "name": "#%%\n"
    }
   }
  }
 ],
 "metadata": {
  "kernelspec": {
   "display_name": "Python 3",
   "language": "python",
   "name": "python3"
  },
  "language_info": {
   "codemirror_mode": {
    "name": "ipython",
    "version": 3
   },
   "file_extension": ".py",
   "mimetype": "text/x-python",
   "name": "python",
   "nbconvert_exporter": "python",
   "pygments_lexer": "ipython3",
   "version": "3.7.10"
  }
 },
 "nbformat": 4,
 "nbformat_minor": 1
}