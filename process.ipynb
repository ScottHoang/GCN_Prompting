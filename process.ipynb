{
 "cells": [
  {
   "cell_type": "code",
   "execution_count": 2,
   "metadata": {
    "collapsed": true
   },
   "outputs": [],
   "source": [
    "import os\n",
    "import matplotlib.pyplot as plt\n",
    "import numpy as np\n",
    "import torch\n",
    "import torch.nn.functional as F\n",
    "\n",
    "\n",
    "def load_pkg(path):\n",
    "    pkg = torch.load(path)\n",
    "    return pkg"
   ]
  },
  {
   "cell_type": "code",
   "execution_count": 15,
   "outputs": [
    {
     "name": "stdout",
     "output_type": "stream",
     "text": [
      "Cora_dtbfs_gnn_2_1_org.pth\n",
      "{'static_prompt_mads': tensor(0.0377), 'learned_prompt_mads': tensor(0.1230), 'static_mads': tensor(-0.0977), 'learned_mads': tensor(-0.0069), 'train_i2nr': tensor(0.0890), 'train_weighted_i2nr': tensor(0.0444)}\n",
      "#########\n",
      "ACTOR_dtbfs_gnn_2_1_org.pth\n",
      "{'static_prompt_mads': tensor(0.0935), 'learned_prompt_mads': tensor(0.0661), 'static_mads': tensor(0.1019), 'learned_mads': tensor(0.0777), 'train_i2nr': tensor(0.2074), 'train_weighted_i2nr': tensor(0.2222)}\n",
      "#########\n",
      "Cora_dtbfs_gnn_2_1.pth\n",
      "{'static_prompt_mads': tensor(0.0344), 'learned_prompt_mads': tensor(0.0009), 'static_mads': tensor(0.0310), 'learned_mads': tensor(-0.1047), 'train_i2nr': tensor(-0.0716), 'train_weighted_i2nr': tensor(-0.0228)}\n",
      "#########\n",
      "ACTOR_dtbfs_mlp_2_1_org.pth\n",
      "{'static_prompt_mads': tensor(0.1488), 'learned_prompt_mads': tensor(0.1537), 'static_mads': tensor(0.1213), 'learned_mads': tensor(0.1632), 'train_i2nr': tensor(0.1310), 'train_weighted_i2nr': tensor(0.1271)}\n",
      "#########\n",
      "Cora_dtbfs_mlp_2_1.pth\n",
      "{'static_prompt_mads': tensor(0.0032), 'learned_prompt_mads': tensor(0.1660), 'static_mads': tensor(-0.0110), 'learned_mads': tensor(0.0030), 'train_i2nr': tensor(0.0961), 'train_weighted_i2nr': tensor(-0.0224)}\n",
      "#########\n",
      "Cora_dtbfs_mlp_2_1_org.pth\n",
      "{'static_prompt_mads': tensor(-0.1305), 'learned_prompt_mads': tensor(-0.0534), 'static_mads': tensor(-0.0421), 'learned_mads': tensor(-0.0479), 'train_i2nr': tensor(0.1921), 'train_weighted_i2nr': tensor(0.1742)}\n",
      "#########\n",
      "ACTOR_dtbfs_mlp_2_1.pth\n",
      "{'static_prompt_mads': tensor(0.0724), 'learned_prompt_mads': tensor(-0.0246), 'static_mads': tensor(0.0923), 'learned_mads': tensor(-0.0237), 'train_i2nr': tensor(0.1868), 'train_weighted_i2nr': tensor(0.1859)}\n",
      "#########\n",
      "ACTOR_dtbfs_gnn_2_1.pth\n",
      "{'static_prompt_mads': tensor(0.0171), 'learned_prompt_mads': tensor(0.0093), 'static_mads': tensor(-0.0112), 'learned_mads': tensor(0.0158), 'train_i2nr': tensor(0.1844), 'train_weighted_i2nr': tensor(0.1849)}\n",
      "#########\n"
     ]
    }
   ],
   "source": [
    "root3 = '././processed_embeddings/'\n",
    "for p in os.listdir(root3):\n",
    "    path = os.path.join(root3, p)\n",
    "    pkg = load_pkg(path)\n",
    "    print(p)\n",
    "    print(pkg['correlation'])\n",
    "    print(\"#########\")"
   ],
   "metadata": {
    "collapsed": false,
    "pycharm": {
     "name": "#%%\n"
    }
   }
  },
  {
   "cell_type": "code",
   "execution_count": 4,
   "outputs": [],
   "source": [],
   "metadata": {
    "collapsed": false,
    "pycharm": {
     "name": "#%%\n"
    }
   }
  }
 ],
 "metadata": {
  "kernelspec": {
   "display_name": "Python 3",
   "language": "python",
   "name": "python3"
  },
  "language_info": {
   "codemirror_mode": {
    "name": "ipython",
    "version": 2
   },
   "file_extension": ".py",
   "mimetype": "text/x-python",
   "name": "python",
   "nbconvert_exporter": "python",
   "pygments_lexer": "ipython2",
   "version": "2.7.6"
  }
 },
 "nbformat": 4,
 "nbformat_minor": 0
}